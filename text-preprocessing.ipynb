{
  "nbformat": 4,
  "nbformat_minor": 0,
  "metadata": {
    "colab": {
      "provenance": []
    },
    "kernelspec": {
      "name": "python3",
      "display_name": "Python 3"
    },
    "language_info": {
      "name": "python"
    }
  },
  "cells": [
    {
      "cell_type": "code",
      "execution_count": null,
      "metadata": {
        "id": "hWqdT-SAkRIw"
      },
      "outputs": [],
      "source": [
        "# Install required packages\n",
        "!pip install pandas scikit-learn nltk\n",
        "\n",
        "import pandas as pd\n",
        "import numpy as np\n",
        "import nltk\n",
        "from nltk.corpus import stopwords\n",
        "from sklearn.model_selection import train_test_split\n",
        "from sklearn.feature_extraction.text import TfidfVectorizer\n",
        "from sklearn.linear_model import LogisticRegression\n",
        "from sklearn.metrics import classification_report\n",
        "\n",
        "# Download NLTK stopwords\n",
        "nltk.download('stopwords')\n",
        "\n",
        "# Step 1: Load the Dataset\n",
        "# Make sure to replace 'feedback_data.csv' with your actual CSV file path\n",
        "# The CSV is expected to have two columns: 'feedback' and 'label'\n",
        "# 'feedback' contains the user feedback, and 'label' is either 'positive' or 'negative'\n",
        "data = pd.read_csv('feedback_data.csv')\n",
        "\n",
        "# Display the first few rows of the dataset\n",
        "print(data.head())\n",
        "\n",
        "# Step 2: Preprocess the Text Data\n",
        "stop_words = set(stopwords.words('english'))\n",
        "\n",
        "def preprocess_text(text):\n",
        "    # Convert to lowercase\n",
        "    text = text.lower()\n",
        "    # Remove punctuation and digits\n",
        "    text = ''.join([char for char in text if char.isalpha() or char.isspace()])\n",
        "    # Remove stopwords\n",
        "    text = ' '.join([word for word in text.split() if word not in stop_words])\n",
        "    return text\n",
        "\n",
        "# Apply preprocessing to the feedback column\n",
        "data['processed_feedback'] = data['feedback'].apply(preprocess_text)\n",
        "\n",
        "# Step 3: Vectorization\n",
        "# Split the data into training and testing sets\n",
        "X_train, X_test, y_train, y_test = train_test_split(\n",
        "    data['processed_feedback'], data['label'], test_size=0.2, random_state=42\n",
        ")\n",
        "\n",
        "# Create a TF-IDF Vectorizer\n",
        "vectorizer = TfidfVectorizer()\n",
        "X_train_tfidf = vectorizer.fit_transform(X_train)\n",
        "X_test_tfidf = vectorizer.transform(X_test)\n",
        "\n",
        "# Step 4: Train a Machine Learning Model\n",
        "model = LogisticRegression()\n",
        "model.fit(X_train_tfidf, y_train)\n",
        "\n",
        "# Step 5: Make Predictions\n",
        "y_pred = model.predict(X_test_tfidf)\n",
        "\n",
        "# Evaluate the model\n",
        "print(classification_report(y_test, y_pred))\n",
        "\n",
        "# Function to predict new feedback\n",
        "def predict_feedback(feedback):\n",
        "    processed = preprocess_text(feedback)\n",
        "    feedback_tfidf = vectorizer.transform([processed])\n",
        "    prediction = model.predict(feedback_tfidf)\n",
        "    return prediction[0]\n",
        "\n",
        "# Example usage:\n",
        "new_feedback = \"The product was excellent and I loved it!\"\n",
        "result = predict_feedback(new_feedback)\n",
        "print(f\"Feedback: '{new_feedback}' is classified as: {result}\")"
      ]
    }
  ]
}